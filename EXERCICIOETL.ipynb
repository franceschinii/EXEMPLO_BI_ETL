{
  "nbformat": 4,
  "nbformat_minor": 0,
  "metadata": {
    "colab": {
      "provenance": [],
      "authorship_tag": "ABX9TyNQQJye1yaiGWaSh3NRX57C",
      "include_colab_link": true
    },
    "kernelspec": {
      "name": "python3",
      "display_name": "Python 3"
    },
    "language_info": {
      "name": "python"
    }
  },
  "cells": [
    {
      "cell_type": "markdown",
      "metadata": {
        "id": "view-in-github",
        "colab_type": "text"
      },
      "source": [
        "<a href=\"https://colab.research.google.com/github/franceschinii/EXEMPLO_BI_ETL/blob/main/EXERCICIOETL.ipynb\" target=\"_parent\"><img src=\"https://colab.research.google.com/assets/colab-badge.svg\" alt=\"Open In Colab\"/></a>"
      ]
    },
    {
      "cell_type": "code",
      "execution_count": 1,
      "metadata": {
        "colab": {
          "base_uri": "https://localhost:8080/"
        },
        "id": "fS0cwUtr5v3H",
        "outputId": "c957123b-cf80-4f7d-b39d-a34b444abf07"
      },
      "outputs": [
        {
          "output_type": "stream",
          "name": "stdout",
          "text": [
            "Dados da filial 1\n",
            "   ID do Produto                   Nome do Produto  Quantidade Vendida  \\\n",
            "0            101                Laptop Dell XPS 13                  20   \n",
            "1            102     Smartphone Samsung Galaxy S20                  30   \n",
            "2            103          Monitor LG UltraWide 34\"                  15   \n",
            "3            104  Teclado Mecânico Corsair K95 RGB                  25   \n",
            "4            105        Mouse Logitech MX Master 3                  10   \n",
            "\n",
            "   Preço Unitário  \n",
            "0          1500.0  \n",
            "1          1000.0  \n",
            "2           600.0  \n",
            "3           200.0  \n",
            "4            80.0  \n",
            "Dados da filial 2\n",
            "   ID do Produto                    Nome do Produto  Quantidade Vendida  \\\n",
            "0            201         Impressora HP LaserJet Pro                  12   \n",
            "1            202                    SSD Samsung 1TB                  18   \n",
            "2            203              Tablet Apple iPad Pro                   8   \n",
            "3            204  Smartwatch Samsung Galaxy Watch 4                  14   \n",
            "4            205            Headset HyperX Cloud II                  20   \n",
            "\n",
            "   Preço Unitário  \n",
            "0           250.0  \n",
            "1           180.0  \n",
            "2           900.0  \n",
            "3           300.0  \n",
            "4           120.0  \n"
          ]
        }
      ],
      "source": [
        "import pandas as pd\n",
        "\n",
        "# Extração dos dados da filial 1 (CSV)\n",
        "vendas_filial1 = pd.read_csv('vendas_filial1.csv')\n",
        "# Extração dos dados da filial 2 (Excel)\n",
        "vendas_filial2 = pd.read_excel('vendas_filial2.xlsx')\n",
        "\n",
        "# Transformações\n",
        "# Podemos fazer transformações adicionais aqui, se necessário\n",
        "\n",
        "# Visualizção dos dados\n",
        "print(\"Dados da filial 1\")\n",
        "print(vendas_filial1.head())\n",
        "print(\"Dados da filial 2\")\n",
        "print(vendas_filial2.head())"
      ]
    },
    {
      "cell_type": "code",
      "source": [
        "# Transformação dos dados: Calcular o valor total de vendas para cada filial\n",
        "vendas_filial1['Valor Total'] = vendas_filial1['Quantidade Vendida'] * vendas_filial1['Preço Unitário']\n",
        "vendas_filial2['Valor Total'] = vendas_filial2['Quantidade Vendida'] * vendas_filial2['Preço Unitário']\n",
        "\n",
        "# Visualizar os dados transformados\n",
        "print(\"dados transformados da filial 1\")\n",
        "print(vendas_filial1.head())\n",
        "print(\"dados transformados da filial 2\")\n",
        "print(vendas_filial2.head())"
      ],
      "metadata": {
        "colab": {
          "base_uri": "https://localhost:8080/"
        },
        "id": "fAmyCxn77oDO",
        "outputId": "e790af23-6d0c-400c-f0d8-2cdf6f89173a"
      },
      "execution_count": 2,
      "outputs": [
        {
          "output_type": "stream",
          "name": "stdout",
          "text": [
            "dados transformados da filial 1\n",
            "   ID do Produto                   Nome do Produto  Quantidade Vendida  \\\n",
            "0            101                Laptop Dell XPS 13                  20   \n",
            "1            102     Smartphone Samsung Galaxy S20                  30   \n",
            "2            103          Monitor LG UltraWide 34\"                  15   \n",
            "3            104  Teclado Mecânico Corsair K95 RGB                  25   \n",
            "4            105        Mouse Logitech MX Master 3                  10   \n",
            "\n",
            "   Preço Unitário  Valor Total  \n",
            "0          1500.0      30000.0  \n",
            "1          1000.0      30000.0  \n",
            "2           600.0       9000.0  \n",
            "3           200.0       5000.0  \n",
            "4            80.0        800.0  \n",
            "dados transformados da filial 2\n",
            "   ID do Produto                    Nome do Produto  Quantidade Vendida  \\\n",
            "0            201         Impressora HP LaserJet Pro                  12   \n",
            "1            202                    SSD Samsung 1TB                  18   \n",
            "2            203              Tablet Apple iPad Pro                   8   \n",
            "3            204  Smartwatch Samsung Galaxy Watch 4                  14   \n",
            "4            205            Headset HyperX Cloud II                  20   \n",
            "\n",
            "   Preço Unitário  Valor Total  \n",
            "0           250.0       3000.0  \n",
            "1           180.0       3240.0  \n",
            "2           900.0       7200.0  \n",
            "3           300.0       4200.0  \n",
            "4           120.0       2400.0  \n"
          ]
        }
      ]
    },
    {
      "cell_type": "code",
      "source": [
        "# Carregamento dos dados transformados para um arquivo CSV\n",
        "vendas_filial1.to_csv('vendas_filial1_transformadas.csv', index=False)\n",
        "vendas_filial2.to_csv('vendas_filial2_transformadas.csv', index=False)\n",
        "# Apresentar os dados carregados dos arquivos CSV\n",
        "\n",
        "dados_filial1 = pd.read_csv('vendas_filial1_transformadas.csv')\n",
        "dados_filial2 = pd.read_csv('vendas_filial2_transformadas.csv')\n",
        "\n",
        "print(\"Dados transformados da filial 1 (do arquivo CSV)\")\n",
        "print(dados_filial1.head())\n",
        "print(\"Dados transformados da filial 2 (do arquivo CSV)\")\n",
        "print(dados_filial2.head())"
      ],
      "metadata": {
        "colab": {
          "base_uri": "https://localhost:8080/"
        },
        "id": "39g7OOvW7tUN",
        "outputId": "c981b0e0-6929-40d1-90a9-1bc8924ee161"
      },
      "execution_count": 3,
      "outputs": [
        {
          "output_type": "stream",
          "name": "stdout",
          "text": [
            "Dados transformados da filial 1 (do arquivo CSV)\n",
            "   ID do Produto                   Nome do Produto  Quantidade Vendida  \\\n",
            "0            101                Laptop Dell XPS 13                  20   \n",
            "1            102     Smartphone Samsung Galaxy S20                  30   \n",
            "2            103          Monitor LG UltraWide 34\"                  15   \n",
            "3            104  Teclado Mecânico Corsair K95 RGB                  25   \n",
            "4            105        Mouse Logitech MX Master 3                  10   \n",
            "\n",
            "   Preço Unitário  Valor Total  \n",
            "0          1500.0      30000.0  \n",
            "1          1000.0      30000.0  \n",
            "2           600.0       9000.0  \n",
            "3           200.0       5000.0  \n",
            "4            80.0        800.0  \n",
            "Dados transformados da filial 2 (do arquivo CSV)\n",
            "   ID do Produto                    Nome do Produto  Quantidade Vendida  \\\n",
            "0            201         Impressora HP LaserJet Pro                  12   \n",
            "1            202                    SSD Samsung 1TB                  18   \n",
            "2            203              Tablet Apple iPad Pro                   8   \n",
            "3            204  Smartwatch Samsung Galaxy Watch 4                  14   \n",
            "4            205            Headset HyperX Cloud II                  20   \n",
            "\n",
            "   Preço Unitário  Valor Total  \n",
            "0           250.0       3000.0  \n",
            "1           180.0       3240.0  \n",
            "2           900.0       7200.0  \n",
            "3           300.0       4200.0  \n",
            "4           120.0       2400.0  \n"
          ]
        }
      ]
    },
    {
      "cell_type": "code",
      "source": [
        "import sqlite3\n",
        "\n",
        "# Criar uma conexão com o banco de dados\n",
        "conn = sqlite3.connect('dados_transformados.db')\n",
        "\n",
        "# Carregar os dados transformados para tabelas SQL\n",
        "vendas_filial1.to_sql('vendas_filial1_transformadas', conn, index=False, if_exists='replace')\n",
        "vendas_filial2.to_sql('vendas_filial2_transformadas', conn, index=False, if_exists='replace')\n",
        "\n",
        "#Apresentar os dados das tabelas SQL\n",
        "dados_filial1 = pd.read_sql('SELECT * FROM vendas_filial1_transformadas', conn)\n",
        "dados_filial2 = pd.read_sql('SELECT * FROM vendas_filial2_transformadas', conn)\n",
        "\n",
        "print(\"Dados transformados da filial 1 (do banco de dados SQL)\")\n",
        "print(dados_filial1.head())\n",
        "print(\"Dados transformados da filial 2 (do banco de dados SQL)\")\n",
        "print(dados_filial2.head())\n",
        "\n",
        "# Fechar a conexão com o banco de dados\n",
        "conn.close()"
      ],
      "metadata": {
        "colab": {
          "base_uri": "https://localhost:8080/"
        },
        "id": "Q9gpqX9z8IbA",
        "outputId": "419ee0bc-8c60-4fc6-efdd-7d145697df14"
      },
      "execution_count": 4,
      "outputs": [
        {
          "output_type": "stream",
          "name": "stdout",
          "text": [
            "Dados transformados da filial 1 (do banco de dados SQL)\n",
            "   ID do Produto                   Nome do Produto  Quantidade Vendida  \\\n",
            "0            101                Laptop Dell XPS 13                  20   \n",
            "1            102     Smartphone Samsung Galaxy S20                  30   \n",
            "2            103          Monitor LG UltraWide 34\"                  15   \n",
            "3            104  Teclado Mecânico Corsair K95 RGB                  25   \n",
            "4            105        Mouse Logitech MX Master 3                  10   \n",
            "\n",
            "   Preço Unitário  Valor Total  \n",
            "0          1500.0      30000.0  \n",
            "1          1000.0      30000.0  \n",
            "2           600.0       9000.0  \n",
            "3           200.0       5000.0  \n",
            "4            80.0        800.0  \n",
            "Dados transformados da filial 2 (do banco de dados SQL)\n",
            "   ID do Produto                    Nome do Produto  Quantidade Vendida  \\\n",
            "0            201         Impressora HP LaserJet Pro                  12   \n",
            "1            202                    SSD Samsung 1TB                  18   \n",
            "2            203              Tablet Apple iPad Pro                   8   \n",
            "3            204  Smartwatch Samsung Galaxy Watch 4                  14   \n",
            "4            205            Headset HyperX Cloud II                  20   \n",
            "\n",
            "   Preço Unitário  Valor Total  \n",
            "0           250.0       3000.0  \n",
            "1           180.0       3240.0  \n",
            "2           900.0       7200.0  \n",
            "3           300.0       4200.0  \n",
            "4           120.0       2400.0  \n"
          ]
        }
      ]
    },
    {
      "cell_type": "code",
      "source": [
        "import sqlite3\n",
        "\n",
        "# Conexão Banco de dados\n",
        "conn = sqlite3.connect('dados_transformados.db')\n",
        "\n",
        "#cursor consultas sql\n",
        "cursor = conn.cursor()\n",
        "\n",
        "# Consulta sql para obter dados da tabela vendas_filial1_transformadas\n",
        "cursor.execute('SELECT * FROM vendas_filial1_transformadas')\n",
        "\n",
        "# Obter dados da consulta\n",
        "dados_filial1 = cursor.fetchall()\n",
        "\n",
        "# Exibir os dados da filial 1\n",
        "print(\"Dados Transformados da filial 1\")\n",
        "for linha in dados_filial1:\n",
        "  print(linha)\n",
        "\n",
        "# Consulta sql para obter dados da tabela vendas_filial2_transformadas\n",
        "cursor.execute('SELECT * FROM vendas_filial2_transformadas')\n",
        "\n",
        "# Obter dados da consulta\n",
        "dados_filial2 = cursor.fetchall()\n",
        "\n",
        "# Exibir os dados da filial 2\n",
        "print(\"Dados Transformados da filial 2\")\n",
        "for linha in dados_filial2:\n",
        "  print(linha)\n",
        "\n",
        "#fechar cursor e conn\n",
        "cursor.close()\n",
        "conn.close()"
      ],
      "metadata": {
        "colab": {
          "base_uri": "https://localhost:8080/"
        },
        "id": "H6l4Csi68SIx",
        "outputId": "a43882a3-e364-4e53-d2c2-a256b429b84b"
      },
      "execution_count": 5,
      "outputs": [
        {
          "output_type": "stream",
          "name": "stdout",
          "text": [
            "Dados Transformados da filial 1\n",
            "(101, 'Laptop Dell XPS 13', 20, 1500.0, 30000.0)\n",
            "(102, 'Smartphone Samsung Galaxy S20', 30, 1000.0, 30000.0)\n",
            "(103, 'Monitor LG UltraWide 34\"', 15, 600.0, 9000.0)\n",
            "(104, 'Teclado Mecânico Corsair K95 RGB', 25, 200.0, 5000.0)\n",
            "(105, 'Mouse Logitech MX Master 3', 10, 80.0, 800.0)\n",
            "Dados Transformados da filial 2\n",
            "(201, 'Impressora HP LaserJet Pro', 12, 250.0, 3000.0)\n",
            "(202, 'SSD Samsung 1TB', 18, 180.0, 3240.0)\n",
            "(203, 'Tablet Apple iPad Pro', 8, 900.0, 7200.0)\n",
            "(204, 'Smartwatch Samsung Galaxy Watch 4', 14, 300.0, 4200.0)\n",
            "(205, 'Headset HyperX Cloud II', 20, 120.0, 2400.0)\n"
          ]
        }
      ]
    }
  ]
}